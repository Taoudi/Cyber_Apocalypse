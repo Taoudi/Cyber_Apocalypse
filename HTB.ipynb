{
  "nbformat": 4,
  "nbformat_minor": 0,
  "metadata": {
    "colab": {
      "provenance": [],
      "collapsed_sections": [
        "Mg7JNi9A_65M",
        "li-lChgWAB1C",
        "-DG6CPZPFbbD",
        "XbiZqqjaOMbV"
      ]
    },
    "kernelspec": {
      "name": "python3",
      "display_name": "Python 3"
    },
    "language_info": {
      "name": "python"
    },
    "accelerator": "GPU",
    "gpuClass": "standard"
  },
  "cells": [
    {
      "cell_type": "markdown",
      "source": [
        "# Task 1 - ML Reconfiguration"
      ],
      "metadata": {
        "id": "zg36Qrzv_xe-"
      }
    },
    {
      "cell_type": "code",
      "execution_count": null,
      "metadata": {
        "colab": {
          "base_uri": "https://localhost:8080/"
        },
        "id": "aZrrU8bpddyM",
        "outputId": "8e7fcb27-0d34-4b61-ab26-ac4efb85be87"
      },
      "outputs": [
        {
          "output_type": "stream",
          "name": "stdout",
          "text": [
            "Archive:  ml_reconfiguration.zip\n",
            "  inflating: analysis.ows            \n",
            "  inflating: points.csv              \n"
          ]
        }
      ],
      "source": [
        "!unzip ml_reconfiguration.zip"
      ]
    },
    {
      "cell_type": "code",
      "source": [
        "import matplotlib.pyplot as plt\n",
        "import pandas as pd\n",
        "\n",
        "\n",
        "df = pd.read_csv('points.csv').to_numpy()\n",
        "\n",
        "df.shape"
      ],
      "metadata": {
        "colab": {
          "base_uri": "https://localhost:8080/"
        },
        "id": "tbAl7bnKdo2M",
        "outputId": "fde2bcf6-828a-4a81-f5d3-1ea4ede63deb"
      },
      "execution_count": null,
      "outputs": [
        {
          "output_type": "execute_result",
          "data": {
            "text/plain": [
              "(21360, 2)"
            ]
          },
          "metadata": {},
          "execution_count": 2
        }
      ]
    },
    {
      "cell_type": "code",
      "source": [
        "\n",
        "plt.rcParams[\"figure.figsize\"] = (20,3)\n",
        "\n",
        "plt.scatter(df[:,0], df[:,1])"
      ],
      "metadata": {
        "colab": {
          "base_uri": "https://localhost:8080/",
          "height": 228
        },
        "id": "Gd_boj4ldzY5",
        "outputId": "5864e6ea-2f5b-4776-c275-1f1ddc0efc9d"
      },
      "execution_count": null,
      "outputs": [
        {
          "output_type": "execute_result",
          "data": {
            "text/plain": [
              "<matplotlib.collections.PathCollection at 0x7f53571df880>"
            ]
          },
          "metadata": {},
          "execution_count": 16
        },
        {
          "output_type": "display_data",
          "data": {
            "text/plain": [
              "<Figure size 1440x216 with 1 Axes>"
            ],
            "image/png": "[encoded data removed]"
          },
          "metadata": {
            "needs_background": "light"
          }
        }
      ]
    },
    {
      "cell_type": "markdown",
      "source": [
        "# Task 2 - ML Mysterious Learnings"
      ],
      "metadata": {
        "id": "Mg7JNi9A_65M"
      }
    },
    {
      "cell_type": "code",
      "source": [
        "!unzip ml_mysterious_learnings.zip"
      ],
      "metadata": {
        "colab": {
          "base_uri": "https://localhost:8080/"
        },
        "id": "Byy3YIv-foFB",
        "outputId": "1d41ae74-e655-4276-fff4-39a044a299cb"
      },
      "execution_count": null,
      "outputs": [
        {
          "output_type": "stream",
          "name": "stdout",
          "text": [
            "Archive:  ml_mysterious_learnings.zip\n",
            "  inflating: alien.h5                \n"
          ]
        }
      ]
    },
    {
      "cell_type": "code",
      "source": [
        "model = tf.keras.models.load_model('alien.h5')\n",
        "model.summary()"
      ],
      "metadata": {
        "colab": {
          "base_uri": "https://localhost:8080/"
        },
        "id": "HsGAKr5V-5En",
        "outputId": "dbb7fdc6-2dc5-40cf-96c4-02559b8795ae"
      },
      "execution_count": null,
      "outputs": [
        {
          "output_type": "stream",
          "name": "stdout",
          "text": [
            "SFRCe24wdF9zb\n",
            "Model: \"19oNHJkX3RvX3V\"\n",
            "_________________________________________________________________\n",
            " Layer (type)                Output Shape              Param #   \n",
            "=================================================================\n",
            " conv2d_3 (Conv2D)           (None, 30, 30, 32)        896       \n",
            "                                                                 \n",
            " max_pooling2d_2 (MaxPooling  (None, 15, 15, 32)       0         \n",
            " 2D)                                                             \n",
            "                                                                 \n",
            " conv2d_4 (Conv2D)           (None, 13, 13, 64)        18496     \n",
            "                                                                 \n",
            " max_pooling2d_3 (MaxPooling  (None, 6, 6, 64)         0         \n",
            " 2D)                                                             \n",
            "                                                                 \n",
            " conv2d_5 (Conv2D)           (None, 4, 4, 64)          36928     \n",
            "                                                                 \n",
            " uZDNyc3Q0bmR9 (Lambda)      (None, 4, 4, 64)          0         \n",
            "                                                                 \n",
            " flatten_1 (Flatten)         (None, 1024)              0         \n",
            "                                                                 \n",
            " dense_2 (Dense)             (None, 64)                65600     \n",
            "                                                                 \n",
            " dense_3 (Dense)             (None, 10)                650       \n",
            "                                                                 \n",
            " lambda_1 (Lambda)           (None, 10)                0         \n",
            "                                                                 \n",
            "=================================================================\n",
            "Total params: 122,570\n",
            "Trainable params: 122,570\n",
            "Non-trainable params: 0\n",
            "_________________________________________________________________\n"
          ]
        }
      ]
    },
    {
      "cell_type": "code",
      "source": [
        "!echo SFRCe24wdF9zb19oNHJkX3RvX3VuZDNyc3Q0bmR9 | base64 -d"
      ],
      "metadata": {
        "colab": {
          "base_uri": "https://localhost:8080/"
        },
        "id": "qbABpOwgAF_C",
        "outputId": "2e16a446-010d-4973-8df6-38585a9a7d37"
      },
      "execution_count": null,
      "outputs": [
        {
          "output_type": "stream",
          "name": "stdout",
          "text": [
            "HTB{n0t_so_h4rd_to_und3rst4nd}"
          ]
        }
      ]
    },
    {
      "cell_type": "markdown",
      "source": [
        "# Task 3 - Last Hope\n"
      ],
      "metadata": {
        "id": "li-lChgWAB1C"
      }
    },
    {
      "cell_type": "code",
      "source": [
        "!unzip ml_last_hope.zip"
      ],
      "metadata": {
        "colab": {
          "base_uri": "https://localhost:8080/"
        },
        "id": "LYo_BDRHA8H1",
        "outputId": "0d865256-c098-43c0-b374-7594aa9efbdd"
      },
      "execution_count": null,
      "outputs": [
        {
          "output_type": "stream",
          "name": "stdout",
          "text": [
            "Archive:  ml_last_hope.zip\n",
            "  inflating: quantum_artifact.qasm   \n"
          ]
        }
      ]
    },
    {
      "cell_type": "code",
      "source": [
        "!pip install oqi qiskit"
      ],
      "metadata": {
        "id": "49igsMvNBCHW"
      },
      "execution_count": null,
      "outputs": []
    },
    {
      "cell_type": "code",
      "source": [
        "import numpy as np\n",
        "from qiskit import QuantumCircuit, transpile\n",
        "from qiskit.providers.aer import QasmSimulator\n",
        "from qiskit.visualization import plot_histogram\n",
        "\n",
        "\n",
        "simulator = QasmSimulator()\n",
        "circuit = QuantumCircuit.from_qasm_file('quantum_artifact.qasm')\n",
        "compiled_circuit = transpile(circuit, simulator)\n",
        "job = simulator.run(compiled_circuit, shots=1000)\n",
        "result = job.result()\n"
      ],
      "metadata": {
        "id": "--Ywwk0IB5hh"
      },
      "execution_count": null,
      "outputs": []
    },
    {
      "cell_type": "code",
      "source": [
        "counts = result.get_counts(compiled_circuit)\n",
        "print(\"\\nTotal count for 00 and 11 are:\",counts)\n",
        "\n",
        "binary = next(iter(counts.keys()))\n",
        "\n",
        "def decode_binary_string(s):\n",
        "    return ''.join(chr(int(s[i*8:i*8+8],2)) for i in range(len(s)//8))\n",
        "\n",
        "decode_binary_string(binary)"
      ],
      "metadata": {
        "colab": {
          "base_uri": "https://localhost:8080/",
          "height": 90
        },
        "id": "3vahRB4jEb2n",
        "outputId": "96449275-74db-45ec-aca7-5c863ffee475"
      },
      "execution_count": null,
      "outputs": [
        {
          "output_type": "stream",
          "name": "stdout",
          "text": [
            "\n",
            "Total count for 00 and 11 are: {'01001000010101000100001001111011011000010101111101100111011011000011000101101101011100000111001100110011010111110011000001100110010111110110100000110000011100000011001101111101': 1000}\n"
          ]
        },
        {
          "output_type": "execute_result",
          "data": {
            "text/plain": [
              "'HTB{a_gl1mps3_0f_h0p3}'"
            ],
            "application/vnd.google.colaboratory.intrinsic+json": {
              "type": "string"
            }
          },
          "metadata": {},
          "execution_count": 72
        }
      ]
    },
    {
      "cell_type": "markdown",
      "source": [
        "# Task 4 - On The Rescue"
      ],
      "metadata": {
        "id": "-DG6CPZPFbbD"
      }
    },
    {
      "cell_type": "code",
      "source": [
        "!unzip ml_on_the_rescue.zip"
      ],
      "metadata": {
        "colab": {
          "base_uri": "https://localhost:8080/"
        },
        "id": "dSfYcJ2hF0G8",
        "outputId": "7c968b44-8026-4e01-ce16-762ddedeb778"
      },
      "execution_count": null,
      "outputs": [
        {
          "output_type": "stream",
          "name": "stdout",
          "text": [
            "Archive:  ml_on_the_rescue.zip\n",
            "  inflating: architecture.py         \n",
            "  inflating: bigram_model.pt         \n"
          ]
        }
      ]
    },
    {
      "cell_type": "code",
      "source": [
        "import torch\n",
        "import torch.nn as nn\n",
        "from torch.nn import functional as F\n",
        "from torchsummary import summary\n",
        "\n",
        "torch.manual_seed(1337)\n",
        "\n",
        "vocab = list(\"0123456789abcdefghijklmnopqrstuvwxyzABCDEFGHIJKLMNOPQRSTUVWXYZ!#$%&'()*+,-./:;<=>?@[\\]^_`{|}\\n\")\n",
        "class BigramLanguageModel(nn.Module):\n",
        "\n",
        "    def __init__(self, vocab_size):\n",
        "        super().__init__()\n",
        "        self.token_embedding_table = nn.Embedding(vocab_size, vocab_size)\n",
        "\n",
        "    def forward(self, idx, targets=None):\n",
        "\n",
        "        logits = self.token_embedding_table(idx) \n",
        "        \n",
        "        if targets is None:\n",
        "            loss = None\n",
        "        else:\n",
        "            B, T, C = logits.shape\n",
        "            logits = logits.view(B*T, C)\n",
        "            targets = targets.view(B*T)\n",
        "            loss = F.cross_entropy(logits, targets)\n",
        "\n",
        "        return logits\n",
        "    \n",
        "\n",
        "\n",
        "model = BigramLanguageModel(93)\n",
        "model.load_state_dict(torch.load('bigram_model.pt'))"
      ],
      "metadata": {
        "colab": {
          "base_uri": "https://localhost:8080/"
        },
        "id": "i4UOD9QykITZ",
        "outputId": "8416deb7-3031-4632-a03d-6482f81a4d0f"
      },
      "execution_count": null,
      "outputs": [
        {
          "output_type": "execute_result",
          "data": {
            "text/plain": [
              "<All keys matched successfully>"
            ]
          },
          "metadata": {},
          "execution_count": 74
        }
      ]
    },
    {
      "cell_type": "code",
      "source": [
        "curr_idx = torch.tensor([43]) # Index of H in vocab\n",
        "flag = 'H'\n",
        "for i in range(50):\n",
        "  ten = model(curr_idx)\n",
        "  curr_idx = torch.argmax(ten)\n",
        "  flag=flag+vocab[curr_idx]\n",
        "  if vocab[curr_idx] == '}':\n",
        "    break\n",
        "    \n"
      ],
      "metadata": {
        "id": "vJd7Bm3nnd5i"
      },
      "execution_count": null,
      "outputs": []
    },
    {
      "cell_type": "code",
      "source": [
        "print(flag)"
      ],
      "metadata": {
        "colab": {
          "base_uri": "https://localhost:8080/"
        },
        "id": "kV1MdC7oLhcQ",
        "outputId": "3e66c207-4608-4d93-953a-bd415626eb22"
      },
      "execution_count": null,
      "outputs": [
        {
          "output_type": "stream",
          "name": "stdout",
          "text": [
            "HTB{Pr0t3c7_L1fe}\n"
          ]
        }
      ]
    },
    {
      "cell_type": "markdown",
      "source": [
        "# Task 5 - Vision Chip"
      ],
      "metadata": {
        "id": "XbiZqqjaOMbV"
      }
    },
    {
      "cell_type": "code",
      "source": [
        "!7z x ml_vision_chip.zip"
      ],
      "metadata": {
        "colab": {
          "base_uri": "https://localhost:8080/"
        },
        "id": "x87MxI8EN6bg",
        "outputId": "d7911f2d-7485-4c1a-ff0e-8955ac8dc4d4"
      },
      "execution_count": null,
      "outputs": [
        {
          "output_type": "stream",
          "name": "stdout",
          "text": [
            "\n",
            "7-Zip [64] 16.02 : Copyright (c) 1999-2016 Igor Pavlov : 2016-05-21\n",
            "p7zip Version 16.02 (locale=en_US.UTF-8,Utf16=on,HugeFiles=on,64 bits,2 CPUs Intel(R) Xeon(R) CPU @ 2.20GHz (406F0),ASM,AES-NI)\n",
            "\n",
            "Scanning the drive for archives:\n",
            "  0M Scan\b\b\b\b\b\b\b\b\b         \b\b\b\b\b\b\b\b\b1 file, 19998914 bytes (20 MiB)\n",
            "\n",
            "Extracting archive: ml_vision_chip.zip\n",
            "--\n",
            "Path = ml_vision_chip.zip\n",
            "Type = zip\n",
            "Physical Size = 19998914\n",
            "\n",
            "  0%\b\b\b\b    \b\b\b\b 68% 4 - ml_vision_chip/state_dict.pt\b\b\b\b\b\b\b\b\b\b\b\b\b\b\b\b\b\b\b\b\b\b\b\b\b\b\b\b\b\b\b\b\b\b\b\b\b                                     \b\b\b\b\b\b\b\b\b\b\b\b\b\b\b\b\b\b\b\b\b\b\b\b\b\b\b\b\b\b\b\b\b\b\b\b\bEverything is Ok\n",
            "\n",
            "Folders: 1\n",
            "Files: 5\n",
            "Size:       25111703\n",
            "Compressed: 19998914\n"
          ]
        }
      ]
    },
    {
      "cell_type": "code",
      "source": [
        "import numpy as np\n",
        "import matplotlib.pyplot as plt\n",
        "import matplotlib\n",
        "\n",
        "import torch\n",
        "from PIL import Image\n",
        "from torchvision import transforms\n",
        "\n",
        "preprocess = transforms.Compose([\n",
        "    transforms.ToTensor(),\n",
        "    transforms.Normalize(mean=[0.485, 0.456, 0.406], std=[0.229, 0.224, 0.225]),\n",
        "])\n",
        "\n",
        "from ml_vision_chip.model import EarthVisionModel"
      ],
      "metadata": {
        "id": "vG-xrezrOfBX"
      },
      "execution_count": null,
      "outputs": []
    },
    {
      "cell_type": "code",
      "source": [
        "def unpickle(file):\n",
        "    import pickle\n",
        "    with open(file, 'rb') as fo:\n",
        "        _dict = pickle.load(fo, encoding='bytes')\n",
        "    return _dict\n",
        "\n",
        "label_meta = unpickle(\"./ml_vision_chip/meta\")"
      ],
      "metadata": {
        "id": "vVaPMj0sQu8e"
      },
      "execution_count": null,
      "outputs": []
    },
    {
      "cell_type": "code",
      "source": [
        "from torchsummary import summary\n",
        "\n",
        "model = EarthVisionModel()\n",
        "weights = torch.load('ml_vision_chip/state_dict.pt')\n",
        "model.load_state_dict(weights, strict=True)\n",
        "model.eval()"
      ],
      "metadata": {
        "id": "07NmWgp5Qw2e"
      },
      "execution_count": null,
      "outputs": []
    },
    {
      "cell_type": "code",
      "source": [
        "flag = np.zeros((32,256))\n",
        "summary(model, (3,32,32))"
      ],
      "metadata": {
        "id": "CTiGAjyw3eCj"
      },
      "execution_count": null,
      "outputs": []
    },
    {
      "cell_type": "code",
      "source": [
        "!unzip ml_vision_chip/test_X.zip"
      ],
      "metadata": {
        "id": "aIjBeApnRf-I"
      },
      "execution_count": null,
      "outputs": []
    },
    {
      "cell_type": "code",
      "source": [
        "import os\n",
        "import pandas as pd\n",
        "\n",
        "directory = os.fsencode('test_X')\n",
        "    \n",
        "image_list = []\n",
        "id_list = []\n",
        "for file in os.listdir(directory):\n",
        "     filename = os.fsdecode(file)\n",
        "     if filename.endswith(\".jpg\"): \n",
        "         image_list.append(filename)\n",
        "         id_list.append(int(filename.replace('.jpg', '')))\n",
        "         continue\n",
        "     else:\n",
        "       print(filename)\n",
        "       continue\n",
        "df = pd.DataFrame({'image':image_list})\n",
        "df['image_id'] = id_list\n",
        "#df.sort_values('image_id', inplace=True, ascending=True)\n",
        "df"
      ],
      "metadata": {
        "id": "15yMXysPRgtw"
      },
      "execution_count": null,
      "outputs": []
    },
    {
      "cell_type": "code",
      "source": [
        "import imageio as io\n",
        "preds = np.zeros((df.shape[0], 100))\n",
        "for i,d in enumerate(df.iterrows()):\n",
        "  im = io.imread(f\"test_X/{d[1].image}\")\n",
        "  pred_im = model(preprocess(im).float().unsqueeze(0))\n",
        "  preds[i] = pred_im.detach().numpy()\n",
        "  if i % 100 == 99:\n",
        "    print(i)\n",
        "    #print(im.shape)\n"
      ],
      "metadata": {
        "id": "Vu0dP1kgnoVh"
      },
      "execution_count": null,
      "outputs": []
    },
    {
      "cell_type": "code",
      "source": [
        "label_meta"
      ],
      "metadata": {
        "id": "5_J-LXiHOivc"
      },
      "execution_count": null,
      "outputs": []
    },
    {
      "cell_type": "code",
      "source": [
        "import seaborn as sns\n",
        "\n",
        "def check_man(x):\n",
        "  if x in label_meta[b'label_map'][b'large_man-made_outdoor_things']:\n",
        "    return 1\n",
        "  elif x in label_meta[b'label_map'][b'people']:\n",
        "    return 0\n",
        "  else: \n",
        "    return 0.2\n",
        "\n",
        "\n",
        "class_df = pd.DataFrame({'class':np.argmax(preds, axis=1)})\n",
        "df['class'] = class_df['class']\n",
        "df['class_label'] = df.apply(lambda x: label_meta[b'fine_label_names'][x['class']], axis=1)\n",
        "df['man_made'] = df.apply(lambda x: check_man(x.class_label), axis=1)\n",
        "\n",
        "sns.countplot(x=df[\"man_made\"])\n",
        "plt.show()\n",
        "\n",
        "\n",
        "gdf = df.groupby(['class_label']).count().reset_index()"
      ],
      "metadata": {
        "colab": {
          "base_uri": "https://localhost:8080/",
          "height": 283
        },
        "id": "82NBg0b7T8FH",
        "outputId": "149210fc-9dc8-44e8-f780-0b6ba9a32f0f"
      },
      "execution_count": null,
      "outputs": [
        {
          "output_type": "display_data",
          "data": {
            "text/plain": [
              "<Figure size 432x288 with 1 Axes>"
            ],
            "image/png": "[encoded data removed]"
          },
          "metadata": {
            "needs_background": "light"
          }
        }
      ]
    },
    {
      "cell_type": "code",
      "source": [
        "flag = np.zeros((32,256))\n",
        "df.sort_values('image_id', inplace=True, ascending=True)\n",
        "\n",
        "l = df.man_made.to_list()\n",
        "plt.imshow(np.reshape(l,(32,256)), cmap=\"gray\")\n",
        "plt.colorbar()\n",
        "plt.show()\n"
      ],
      "metadata": {
        "colab": {
          "base_uri": "https://localhost:8080/",
          "height": 258
        },
        "id": "7xmCgX9llReJ",
        "outputId": "6e129e51-efe6-4bea-f748-cf68bbee4539"
      },
      "execution_count": null,
      "outputs": [
        {
          "output_type": "display_data",
          "data": {
            "text/plain": [
              "<Figure size 432x288 with 2 Axes>"
            ],
            "image/png": "[encoded data removed]"
          },
          "metadata": {
            "needs_background": "light"
          }
        }
      ]
    },
    {
      "cell_type": "markdown",
      "source": [
        "#Task 6 - Reading The Stars"
      ],
      "metadata": {
        "id": "iAQ_AuzHRt5R"
      }
    },
    {
      "cell_type": "code",
      "source": [
        "!unzip ml_reading_the_stars.zip\n",
        "!unzip test.h5.zip"
      ],
      "metadata": {
        "colab": {
          "base_uri": "https://localhost:8080/"
        },
        "id": "CHfsCzSqWNB-",
        "outputId": "0c361a27-cbcf-4a04-e2d5-a2518d2aefa6"
      },
      "execution_count": null,
      "outputs": [
        {
          "output_type": "stream",
          "name": "stdout",
          "text": [
            "Archive:  ml_reading_the_stars.zip\n",
            "  inflating: train.2.h5              \n",
            "  inflating: __MACOSX/._train.2.h5   \n",
            "  inflating: challenge.ipynb         \n",
            "  inflating: __MACOSX/._challenge.ipynb  \n",
            "  inflating: mask.png                \n",
            "  inflating: __MACOSX/._mask.png     \n",
            "  inflating: model.py                \n",
            "  inflating: __MACOSX/._model.py     \n",
            "  inflating: test.h5.zip             \n",
            "  inflating: __MACOSX/._test.h5.zip  \n",
            "  inflating: train.1.h5              \n",
            "  inflating: __MACOSX/._train.1.h5   \n"
          ]
        }
      ]
    },
    {
      "cell_type": "code",
      "source": [
        "import numpy as np\n",
        "import matplotlib.pyplot as plt\n",
        "import matplotlib\n",
        "\n",
        "import torch\n",
        "from torch import nn\n",
        "from torchvision import transforms\n",
        "preprocess = transforms.Compose([\n",
        "    transforms.Normalize(\n",
        "        mean=np.array([0.1086, 0.0934, 0.0711]),\n",
        "        std=np.array([0.1472, 0.123, 0.1032]))\n",
        "])\n",
        "\n",
        "import h5py\n",
        "\n",
        "SEED = 1337\n",
        "torch.manual_seed(SEED)\n",
        "np.random.seed(SEED)\n",
        "torch.use_deterministic_algorithms(True)\n",
        "\n",
        "from model import StarChartModel, StarData"
      ],
      "metadata": {
        "id": "aUr22wZrXUft"
      },
      "execution_count": 137,
      "outputs": []
    },
    {
      "cell_type": "code",
      "source": [
        "with h5py.File(\"train.1.h5\", \"r\") as F:\n",
        "    train_images1 = np.array(F[\"X\"])\n",
        "    train_labels1 = np.array(F[\"y\"])\n",
        "with h5py.File(\"train.2.h5\", \"r\") as F:\n",
        "    train_images2 = np.array(F[\"X\"])\n",
        "    train_labels2 = np.array(F[\"y\"])\n",
        "train_images = np.concatenate((train_images1, train_images2))\n",
        "train_labels = np.concatenate((train_labels1, train_labels2))\n",
        "\n"
      ],
      "metadata": {
        "id": "tG3oSk5nXWPb"
      },
      "execution_count": 138,
      "outputs": []
    },
    {
      "cell_type": "code",
      "source": [
        "batch_size = 32\n",
        "from  sklearn.model_selection import train_test_split\n",
        "\n",
        "train_images, val_images, train_labels, val_labels = train_test_split(train_images, train_labels, test_size=0.2, random_state=1337)\n",
        "\n",
        "train_set = StarData((train_images.transpose(0,3,1,2)/255), train_labels, transform=preprocess)\n",
        "val_set = StarData((val_images.transpose(0,3,1,2)/255), val_labels, transform=preprocess)\n",
        "\n",
        "train_loader = torch.utils.data.DataLoader(train_set, batch_size=batch_size,\n",
        "    shuffle=True, num_workers=1, pin_memory=True)\n",
        "\n",
        "val_loader = torch.utils.data.DataLoader(val_set, batch_size=batch_size,\n",
        "    shuffle=True, num_workers=1, pin_memory=True)\n",
        "\n"
      ],
      "metadata": {
        "id": "StHykaOFXX5c"
      },
      "execution_count": 139,
      "outputs": []
    },
    {
      "cell_type": "code",
      "source": [
        "dev = torch.device(\"cuda\") if torch.cuda.is_available() else torch.device(\"cpu\")\n",
        "print(dev)\n",
        "model = StarChartModel([0.3,0.15])\n",
        "model.train()\n",
        "#model.to(dev)\n",
        "\n",
        "loss_func = nn.CrossEntropyLoss()\n",
        "optimizer = torch.optim.Adam(model.parameters(), 0.0005)"
      ],
      "metadata": {
        "colab": {
          "base_uri": "https://localhost:8080/"
        },
        "id": "ns1lCId6XZtS",
        "outputId": "9feaa9cc-0468-4d01-c036-b27c3173619b"
      },
      "execution_count": 140,
      "outputs": [
        {
          "output_type": "stream",
          "name": "stdout",
          "text": [
            "cuda\n"
          ]
        }
      ]
    },
    {
      "cell_type": "code",
      "source": [
        "def train_one_epoch(epoch_index):\n",
        "    running_loss = 0.\n",
        "    last_loss = 0.\n",
        "\n",
        "    # Here, we use enumerate(training_loader) instead of\n",
        "    # iter(training_loader) so that we can track the batch\n",
        "    # index and do some intra-epoch reporting\n",
        "    for i, data in enumerate(train_loader):\n",
        "        # Every data instance is an input + label pair\n",
        "        inputs, labels, labels2 = data\n",
        "        # Zero your gradients for every batch!\n",
        "        optimizer.zero_grad()\n",
        "\n",
        "        # Make predictions for this batch\n",
        "        outputs = model(inputs)\n",
        "\n",
        "        # Compute the loss and its gradients\n",
        "        loss = loss_func(outputs, labels)\n",
        "        loss.backward()\n",
        "\n",
        "        # Adjust learning weights\n",
        "        optimizer.step()\n",
        "\n",
        "        # Gather data and report\n",
        "        running_loss += loss.item()\n",
        "        if i % 10 == 9:\n",
        "            last_loss = running_loss / 1000 # loss per batch\n",
        "            running_loss = 0.\n",
        "    print('  loss: {}'.format(last_loss))\n",
        "    return last_loss\n",
        "\n",
        "def accuracy():\n",
        "      model.eval()\n",
        "      total_correct = 0\n",
        "      total_instances = 0\n",
        "      for i, data in enumerate(val_loader):\n",
        "        input, labels, labels2 = data\n",
        "        #input = torch.tensor((np.expand_dims(images, axis=0).transpose(0,3,1,2)/255)).float()\n",
        "        predictions = model(input)\n",
        "        predictions = torch.argmax(predictions, dim=1)\n",
        "\n",
        "        correct_predictions = sum(predictions==labels2).item()\n",
        "        total_correct+=correct_predictions\n",
        "        total_instances+=len(input)\n",
        "      return round(total_correct/total_instances, 3)\n",
        "\n",
        "def val():\n",
        "   with torch.no_grad():\n",
        "        val_losses=[]\n",
        "        for i, data in enumerate(val_loader):\n",
        "          input, labels, labels2 = data\n",
        "          #  sending data to device\n",
        "          #  making predictions\n",
        "          predictions = model(input)\n",
        "          #  computing loss\n",
        "          val_loss = loss_func(predictions, labels2)\n",
        "          val_losses.append(val_loss.item())\n",
        "        #  computing accuracy\n",
        "        print('deriving validation accuracy...')\n",
        "        val_accuracy = accuracy()\n",
        "        val_losses = np.array(val_losses).mean()\n",
        "\n",
        "        print(f'validation_loss: {round(val_losses, 4)} ')\n",
        "        print(f'validation_accuracy: {val_accuracy}\\n')\n"
      ],
      "metadata": {
        "id": "bZAOJkjmZA6k"
      },
      "execution_count": 141,
      "outputs": []
    },
    {
      "cell_type": "code",
      "source": [
        "from tqdm import tqdm\n",
        "\n",
        "def predict():\n",
        "  preds= None\n",
        "\n",
        "  with h5py.File(\"test.h5\", \"r\") as F:\n",
        "    print(F.keys())\n",
        "    test_images = np.array(F[\"X\"])\n",
        "\n",
        "  l1 = list()\n",
        "  l2 = list()\n",
        "  model.eval()\n",
        "  test_images = test_images.reshape((1089,2,69, 69, 3))\n",
        "  for idx, i in enumerate(test_images):\n",
        "    input = torch.tensor((np.expand_dims(i[0], axis=0).transpose(0,3,1,2)/255)).float()\n",
        "    outputs = model(preprocess(input))[0]\n",
        "    \n",
        "    l1.append(outputs.detach().numpy())\n",
        "\n",
        "    input = torch.tensor((np.expand_dims(i[1], axis=0).transpose(0,3,1,2)/255)).float()\n",
        "    outputs = model(preprocess(input))[0]\n",
        "    \n",
        "    l2.append(outputs.detach().numpy())\n",
        "\n",
        "  preds1 = np.array(l1)\n",
        "  preds2 = np.array(l2)\n",
        "  return preds1, preds2\n",
        "\n",
        "  def plt_code(res,mask):\n",
        "    res = res.reshape(33,33,1)\n",
        "    mask_2d = color.rgb2gray(mask)\n",
        "\n",
        "    cond = ((mask[:,:,0] == 0) & (mask[:,:,1] != 255)) \n",
        "\n",
        "    res[cond] = np.expand_dims(mask_2d, axis=0).T[cond]\n",
        "\n",
        "    cond = (mask[:,:,0] == 255) \n",
        "\n",
        "    res[cond] = np.expand_dims(mask_2d, axis=0).T[cond]\n",
        "\n",
        "    plt.imshow(res, cmap='gray')\n",
        "    plt.title(\"final\")\n",
        "    plt.show()\n",
        "\n",
        "\n",
        "epochs = 35\n",
        "print(train_loader)\n",
        "model.train()\n",
        "for i in range(epochs):\n",
        "  print(\"Epoch:\", i)\n",
        "  train_one_epoch(i)\n",
        "\n",
        "  if i %5==0:\n",
        "    val()\n",
        "\n",
        "  if i%5==0:\n",
        "    preds1, preds2 = predict()\n",
        "    flag = np.zeros((1089,1))\n",
        "\n",
        "    flag = (preds1 * preds2)\n",
        "    plt_code(flag.argmax(axis=1), mask)\n"
      ],
      "metadata": {
        "colab": {
          "base_uri": "https://localhost:8080/",
          "height": 1000
        },
        "id": "oedeCbrfZomN",
        "outputId": "6142eddb-2687-428a-a333-22ecace28ac4"
      },
      "execution_count": null,
      "outputs": [
        {
          "output_type": "stream",
          "name": "stdout",
          "text": [
            "<torch.utils.data.dataloader.DataLoader object at 0x7fc1281c3f10>\n",
            "Epoch: 0\n",
            "  loss: 0.005949030101299286\n",
            "deriving validation accuracy...\n",
            "validation_loss: 0.5772 \n",
            "validation_accuracy: 0.75\n",
            "\n",
            "<KeysViewHDF5 ['X']>\n"
          ]
        },
        {
          "output_type": "display_data",
          "data": {
            "text/plain": [
              "<Figure size 432x288 with 1 Axes>"
            ],
            "image/png": "[encoded data removed]"
          },
          "metadata": {
            "needs_background": "light"
          }
        },
        {
          "output_type": "stream",
          "name": "stdout",
          "text": [
            "Epoch: 1\n",
            "  loss: 0.004401644051074982\n",
            "Epoch: 2\n",
            "  loss: 0.004092145919799805\n",
            "Epoch: 3\n",
            "  loss: 0.004255271732807159\n",
            "Epoch: 4\n",
            "  loss: 0.0038953581154346465\n",
            "Epoch: 5\n",
            "  loss: 0.003785340338945389\n",
            "deriving validation accuracy...\n",
            "validation_loss: 0.3971 \n",
            "validation_accuracy: 0.914\n",
            "\n",
            "<KeysViewHDF5 ['X']>\n"
          ]
        },
        {
          "output_type": "display_data",
          "data": {
            "text/plain": [
              "<Figure size 432x288 with 1 Axes>"
            ],
            "image/png": "[encoded data removed]"
          },
          "metadata": {
            "needs_background": "light"
          }
        },
        {
          "output_type": "stream",
          "name": "stdout",
          "text": [
            "Epoch: 6\n",
            "  loss: 0.0037494721710681915\n",
            "Epoch: 7\n",
            "  loss: 0.0037642168998718263\n",
            "Epoch: 8\n",
            "  loss: 0.003794393479824066\n",
            "Epoch: 9\n",
            "  loss: 0.0036395952105522157\n",
            "Epoch: 10\n",
            "  loss: 0.0036542771458625794\n",
            "deriving validation accuracy...\n",
            "validation_loss: 0.3867 \n",
            "validation_accuracy: 0.923\n",
            "\n",
            "<KeysViewHDF5 ['X']>\n"
          ]
        },
        {
          "output_type": "display_data",
          "data": {
            "text/plain": [
              "<Figure size 432x288 with 1 Axes>"
            ],
            "image/png": "[encoded data removed]"
          },
          "metadata": {
            "needs_background": "light"
          }
        },
        {
          "output_type": "stream",
          "name": "stdout",
          "text": [
            "Epoch: 11\n",
            "  loss: 0.003855012774467468\n",
            "Epoch: 12\n",
            "  loss: 0.003518670916557312\n",
            "Epoch: 13\n",
            "  loss: 0.0034107271432876588\n",
            "Epoch: 14\n",
            "  loss: 0.0034694148898124695\n",
            "Epoch: 15\n",
            "  loss: 0.0035475292205810545\n",
            "deriving validation accuracy...\n",
            "validation_loss: 0.3854 \n",
            "validation_accuracy: 0.926\n",
            "\n",
            "<KeysViewHDF5 ['X']>\n"
          ]
        },
        {
          "output_type": "display_data",
          "data": {
            "text/plain": [
              "<Figure size 432x288 with 1 Axes>"
            ],
            "image/png": "[encoded data removed]"
          },
          "metadata": {
            "needs_background": "light"
          }
        },
        {
          "output_type": "stream",
          "name": "stdout",
          "text": [
            "Epoch: 16\n",
            "  loss: 0.0034621195793151857\n",
            "Epoch: 17\n",
            "  loss: 0.0034457713067531587\n",
            "Epoch: 18\n",
            "  loss: 0.00325850322842598\n",
            "Epoch: 19\n",
            "  loss: 0.0034538519084453584\n",
            "Epoch: 20\n",
            "  loss: 0.0035336311757564543\n",
            "deriving validation accuracy...\n",
            "validation_loss: 0.399 \n",
            "validation_accuracy: 0.911\n",
            "\n",
            "<KeysViewHDF5 ['X']>\n"
          ]
        },
        {
          "output_type": "display_data",
          "data": {
            "text/plain": [
              "<Figure size 432x288 with 1 Axes>"
            ],
            "image/png": "[encoded data removed]"
          },
          "metadata": {
            "needs_background": "light"
          }
        },
        {
          "output_type": "stream",
          "name": "stdout",
          "text": [
            "Epoch: 21\n",
            "  loss: 0.0032925806641578674\n",
            "Epoch: 22\n",
            "  loss: 0.0034015674889087675\n",
            "Epoch: 23\n",
            "  loss: 0.003276733994483948\n",
            "Epoch: 24\n",
            "  loss: 0.0032748766243457794\n",
            "Epoch: 25\n",
            "  loss: 0.0032977090775966646\n",
            "deriving validation accuracy...\n",
            "validation_loss: 0.3721 \n",
            "validation_accuracy: 0.942\n",
            "\n",
            "<KeysViewHDF5 ['X']>\n"
          ]
        },
        {
          "output_type": "display_data",
          "data": {
            "text/plain": [
              "<Figure size 432x288 with 1 Axes>"
            ],
            "image/png": "[encoded data removed]"
          },
          "metadata": {
            "needs_background": "light"
          }
        },
        {
          "output_type": "stream",
          "name": "stdout",
          "text": [
            "Epoch: 26\n",
            "  loss: 0.003340806007385254\n",
            "Epoch: 27\n"
          ]
        }
      ]
    },
    {
      "cell_type": "code",
      "source": [],
      "metadata": {
        "id": "yX1uQPAbxdT5"
      },
      "execution_count": null,
      "outputs": []
    }
  ]
}